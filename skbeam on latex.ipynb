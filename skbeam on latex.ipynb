{
 "cells": [
  {
   "cell_type": "code",
   "execution_count": null,
   "metadata": {},
   "outputs": [],
   "source": [
    "%matplotlib widget\n",
    "import matplotlib.pyplot as plt\n",
    "import numpy as np"
   ]
  },
  {
   "cell_type": "code",
   "execution_count": null,
   "metadata": {},
   "outputs": [],
   "source": [
    "import area_detector_handlers.handlers\n",
    "\n",
    "handler = area_detector_handlers.handlers.IMMHandler('data/D005_Latex67nm_dilute_att0_Lq0_001_00001-10000.imm', 1)"
   ]
  },
  {
   "cell_type": "code",
   "execution_count": null,
   "metadata": {},
   "outputs": [],
   "source": [
    "import dask.array\n",
    "\n",
    "images = dask.array.concatenate(handler(i) for i in range(10_000))"
   ]
  },
  {
   "cell_type": "code",
   "execution_count": null,
   "metadata": {},
   "outputs": [],
   "source": [
    "images[0].compute()"
   ]
  },
  {
   "cell_type": "code",
   "execution_count": null,
   "metadata": {},
   "outputs": [],
   "source": [
    "from dask.distributed import Client\n",
    "\n",
    "client = Client()\n",
    "client"
   ]
  },
  {
   "cell_type": "code",
   "execution_count": null,
   "metadata": {},
   "outputs": [],
   "source": [
    "images"
   ]
  },
  {
   "cell_type": "code",
   "execution_count": null,
   "metadata": {},
   "outputs": [],
   "source": [
    "from skbeam.core import correlation, roi"
   ]
  },
  {
   "cell_type": "code",
   "execution_count": null,
   "metadata": {},
   "outputs": [],
   "source": [
    "num_levels = 7\n",
    "num_bufs = 8"
   ]
  },
  {
   "cell_type": "code",
   "execution_count": null,
   "metadata": {},
   "outputs": [],
   "source": [
    "# define the ROIs\n",
    "roi_start = 30 # in pixels\n",
    "roi_width = 9 # in pixels\n",
    "roi_spacing = (5.0, 4.0)\n",
    "x_center = 1556/2 # in pixels\n",
    "y_center = 516/2 # in pixels\n",
    "num_rings = 3\n",
    "\n",
    "# get the edges of the rings\n",
    "edges = roi.ring_edges(roi_start, width=roi_width, \n",
    "                       spacing=roi_spacing, num_rings=num_rings)\n",
    "\n",
    "# get the label array from the ring shaped 3 region of interests(ROI's)\n",
    "labeled_roi_array = roi.rings(\n",
    "    edges, (y_center, x_center), images.shape[1:])\n",
    "\n",
    "def overlay_rois(ax, image, label_array):\n",
    "    \"\"\"\n",
    "    This will plot the reqiured roi's on the image\n",
    "    \"\"\"\n",
    "    from matplotlib.colors import LogNorm\n",
    "    tmp = np.array(label_array, dtype='float')\n",
    "    tmp[label_array==0] = np.nan\n",
    "    \n",
    "    im_data = ax.imshow(image, interpolation='none', norm=LogNorm(), cmap='viridis')\n",
    "    im_overlay = ax.imshow(tmp, cmap='Paired', \n",
    "                   interpolation='nearest', alpha=.5,)\n",
    "    \n",
    "    return im_data, im_overlay\n",
    "\n",
    "fig, ax = plt.subplots()\n",
    "plt.title(\"Latex 67nm\")\n",
    "im_data, im_overlay = overlay_rois(ax, images[0], labeled_roi_array)\n",
    "plt.show()"
   ]
  },
  {
   "cell_type": "code",
   "execution_count": null,
   "metadata": {},
   "outputs": [],
   "source": [
    "g2, lag_steps = correlation.multi_tau_auto_corr(\n",
    "    num_levels, num_bufs, labeled_roi_array, images[:100])"
   ]
  },
  {
   "cell_type": "code",
   "execution_count": null,
   "metadata": {},
   "outputs": [],
   "source": [
    "fig, ax = plt.subplots()\n",
    "ax.plot(lag_steps[1:], g2[1:])"
   ]
  },
  {
   "cell_type": "code",
   "execution_count": null,
   "metadata": {},
   "outputs": [],
   "source": []
  }
 ],
 "metadata": {
  "kernelspec": {
   "display_name": "Python 3",
   "language": "python",
   "name": "python3"
  },
  "language_info": {
   "codemirror_mode": {
    "name": "ipython",
    "version": 3
   },
   "file_extension": ".py",
   "mimetype": "text/x-python",
   "name": "python",
   "nbconvert_exporter": "python",
   "pygments_lexer": "ipython3",
   "version": "3.7.7"
  }
 },
 "nbformat": 4,
 "nbformat_minor": 4
}
